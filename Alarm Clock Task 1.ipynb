{
 "cells": [
  {
   "cell_type": "code",
   "execution_count": 1,
   "id": "2f09b76a",
   "metadata": {},
   "outputs": [
    {
     "name": "stdout",
     "output_type": "stream",
     "text": [
      "pygame 2.3.0 (SDL 2.24.2, Python 3.10.4)\n",
      "Hello from the pygame community. https://www.pygame.org/contribute.html\n"
     ]
    }
   ],
   "source": [
    "#importing the necessary libraries\n",
    "import datetime\n",
    "import time\n",
    "from datetime import datetime\n",
    "from datetime import time\n",
    "from threading import Thread\n",
    "from time import sleep\n",
    "from tkinter import *\n",
    "from tkinter.ttk import Combobox\n",
    "import tkinter as ui\n",
    "from PIL import ImageTk, Image\n",
    "from pygame import mixer"
   ]
  },
  {
   "cell_type": "code",
   "execution_count": 2,
   "id": "d68c83a9",
   "metadata": {},
   "outputs": [],
   "source": [
    "bga = '#00796B'\n",
    "window = ui.Tk()\n",
    "window.title(\"Alarm\")\n",
    "window.geometry('400x280')\n",
    "window.config(bg='#BDBDBD')\n",
    "frame_line = Frame(window, width=400, height=5, bg='#E0E0E0')\n",
    "frame_line.grid(row=0, column=0)"
   ]
  },
  {
   "cell_type": "code",
   "execution_count": 3,
   "id": "be1cd1f3",
   "metadata": {},
   "outputs": [],
   "source": [
    "frame_body = Frame(window, width=400, height=350, bg=bga)\n",
    "frame_body.grid(row=1, column=0)"
   ]
  },
  {
   "cell_type": "code",
   "execution_count": 4,
   "id": "b4ab0bf9",
   "metadata": {},
   "outputs": [],
   "source": [
    "#defining the activation and deactivation function\n",
    "def Activate():\n",
    "    t = Thread(target=alarm)\n",
    "    t.start()\n",
    "def Deactivete():\n",
    "    print(\"deactivated\",selected.get())\n",
    "    mixer.music.stop()\n",
    "    update_clock()\n",
    "    selected = IntVar()"
   ]
  },
  {
   "cell_type": "code",
   "execution_count": 5,
   "id": "9e49bac2",
   "metadata": {},
   "outputs": [],
   "source": [
    "#setting the background of the alarm clock\n",
    "img = Image.open('D:/New folder/alarm-clock.jpg')\n",
    "img = ImageTk.PhotoImage(img)\n",
    "img_app = Label(frame_body, height=100, image=img, bg=bga)\n",
    "img_app.place(x=30, y=20)"
   ]
  },
  {
   "cell_type": "code",
   "execution_count": 6,
   "id": "defc9a34",
   "metadata": {},
   "outputs": [],
   "source": [
    "#hour \n",
    "hour = Label(frame_body, text='hours', height=1, font=('Ivy 11 bold'), bg=bga)\n",
    "hour.place(x=110, y=25)\n",
    "c_hour = Combobox(frame_body, width=5, font=('arial 10'))\n",
    "c_hour['values'] = ('00', '01', '02', '03', '04', '05', '06', '07', '08',\n",
    "                    '09', '10', '11', '12', '13', '14', '15', '16', '17',\n",
    "                    '18', '19', '20', '21', '22', '23', '24')\n",
    "c_hour.current(0)\n",
    "c_hour.place(x=110, y=50)"
   ]
  },
  {
   "cell_type": "code",
   "execution_count": 7,
   "id": "30516b2f",
   "metadata": {},
   "outputs": [],
   "source": [
    "#minute\n",
    "minute = Label(frame_body, text='minutes', height=1, font=('Ivy 11 bold'), bg=bga)\n",
    "minute.place(x=180, y=25)\n",
    "c_minute = Combobox(frame_body, width=5, font=('arial 10'))\n",
    "c_minute['values'] = ('00', '01', '02', '03', '04', '05', '06', '07',\n",
    "                      '08', '09', '10', '11', '12', '13', '14', '15',\n",
    "                      '16', '17', '18', '19', '20', '21', '22', '23',\n",
    "                      '24', '25', '26', '27', '28', '29', '30', '31',\n",
    "                      '32', '33', '34', '35', '36', '37', '38', '39',\n",
    "                      '40', '41', '42', '43', '44', '45', '46', '47',\n",
    "                      '48', '49', '50', '51', '52', '53', '54', '55',\n",
    "                      '56', '57', '58', '59', '60')\n",
    "c_minute.current(0)\n",
    "c_minute.place(x=180, y=50)"
   ]
  },
  {
   "cell_type": "code",
   "execution_count": 8,
   "id": "0f21f6f6",
   "metadata": {},
   "outputs": [],
   "source": [
    "#second\n",
    "second = Label(frame_body, text='seconds', height=1, font=('Ivy 11 bold'), bg=bga)\n",
    "second.place(x=250, y=25)\n",
    "c_second = Combobox(frame_body, width=5, font=('arial 10'))\n",
    "c_second['values'] = ('00', '01', '02', '03', '04', '05', '06', '07',\n",
    "                      '08', '09', '10', '11', '12', '13', '14', '15',\n",
    "                      '16', '17', '18', '19', '20', '21', '22', '23',\n",
    "                      '24', '25', '26', '27', '28', '29', '30', '31',\n",
    "                      '32', '33', '34', '35', '36', '37', '38', '39',\n",
    "                      '40', '41', '42', '43', '44', '45', '46', '47',\n",
    "                      '48', '49', '50', '51', '52', '53', '54', '55',\n",
    "                      '56', '57', '58', '59')\n",
    "c_second.current(0)\n",
    "c_second.place(x=250, y=50)"
   ]
  },
  {
   "cell_type": "code",
   "execution_count": 9,
   "id": "060a3fb9",
   "metadata": {},
   "outputs": [],
   "source": [
    "#period\n",
    "period = Label(frame_body, text='period', height=1, font=('Ivy 11 bold'), bg=bga)\n",
    "period.place(x=320, y=25)\n",
    "c_period = Combobox(frame_body, width=5, font=('arial 10'))\n",
    "c_period['values'] = ('AM', 'PM')\n",
    "c_period.current(0)\n",
    "c_period.place(x=320, y=50)"
   ]
  },
  {
   "cell_type": "code",
   "execution_count": 10,
   "id": "978a1472",
   "metadata": {},
   "outputs": [],
   "source": [
    "def update_clock():\n",
    "    now = datetime.now()\n",
    "    hours_ =now.strftime('%I')\n",
    "    minutes_ = now.strftime('%M')\n",
    "    seconds_ = now.strftime('%S')\n",
    "    am_or_pm = c_period.get()\n",
    "    time_text = hours_ + \":\" + minutes_ + \":\" + seconds_ + \" \" + am_or_pm\n",
    "    digital_clock_lbl.config(text=time_text)\n",
    "    digital_clock_lbl.after(1000, update_clock)\n",
    "def update_clock_():\n",
    "    now = datetime.now()\n",
    "    hours_ =now.strftime('%I')\n",
    "    minutes_ = now.strftime('%M')\n",
    "    seconds_ = now.strftime('%S')\n",
    "    am_or_pm = c_period.get()\n",
    "    time_text = hours_ + \":\" + minutes_ + \":\" + seconds_ + \" \" + am_or_pm\n",
    "    digital_clock_lbl.config(text=time_text)\n",
    "    digital_clock_lbl.after(1000, update_clock)"
   ]
  },
  {
   "cell_type": "code",
   "execution_count": 11,
   "id": "d25b1de0",
   "metadata": {},
   "outputs": [],
   "source": [
    "digital_clock_lbl = ui.Label(frame_body, text=\"00:00:00\", font=\"Helvetica 25 bold\", bg=bga)\n",
    "digital_clock_lbl.place(x=125, y=115)\n",
    "update_clock()"
   ]
  },
  {
   "cell_type": "code",
   "execution_count": 12,
   "id": "c8b7836f",
   "metadata": {},
   "outputs": [],
   "source": [
    "button = Button(frame_body, text=\"Set Alarm\", font=(\"Helvetica 15\"), command=Activate, bg='#00897B')\n",
    "button.place(x=89, y=200)"
   ]
  },
  {
   "cell_type": "code",
   "execution_count": 13,
   "id": "7e74697c",
   "metadata": {},
   "outputs": [],
   "source": [
    "button2 = Button(frame_body, text=\"Deactivate\", font=(\"Helvetica 15\"), command=Deactivete, bg='#00897B')\n",
    "button2.place(x=220, y=200)"
   ]
  },
  {
   "cell_type": "code",
   "execution_count": 14,
   "id": "e391fd81",
   "metadata": {},
   "outputs": [],
   "source": [
    "#defining alarm sound\n",
    "def alarm_sound():\n",
    "    mixer.music.load('D:/New folder/Alarm.mp3')\n",
    "    mixer.music.play()\n",
    "    selected.set(0)"
   ]
  },
  {
   "cell_type": "code",
   "execution_count": 15,
   "id": "9e766efb",
   "metadata": {},
   "outputs": [],
   "source": [
    "def alarm():\n",
    "    while True:\n",
    "        alarmHour = c_hour.get()\n",
    "        alarmMinute = c_minute.get()\n",
    "        alarmSecond = c_second.get()\n",
    "        alarmPeriod = c_period.get()\n",
    "        alarmPeriod = str(alarmPeriod).upper()\n",
    "\n",
    "        now = datetime.now()\n",
    "\n",
    "        Hour = now.strftime(\"%I\")\n",
    "        Minute = now.strftime(\"%M\")\n",
    "        Sec = now.strftime(\"%S\")\n",
    "     #   Period = now.strftime(\"%P\")\n",
    "   # if alarmPeriod == Period:\n",
    "        if alarmHour == Hour:\n",
    "            if alarmMinute == Minute:\n",
    "                if alarmSecond == Sec:\n",
    "                    alarm_sound()\n",
    "    sleep(1)"
   ]
  },
  {
   "cell_type": "code",
   "execution_count": 16,
   "id": "b8430450",
   "metadata": {},
   "outputs": [
    {
     "name": "stderr",
     "output_type": "stream",
     "text": [
      "Exception in thread Thread-5 (alarm):\n",
      "Traceback (most recent call last):\n",
      "  File \"C:\\Users\\hp\\AppData\\Local\\Programs\\Python\\Python310\\lib\\threading.py\", line 1009, in _bootstrap_inner\n",
      "    self.run()\n",
      "  File \"C:\\Users\\hp\\AppData\\Local\\Programs\\Python\\Python310\\lib\\threading.py\", line 946, in run\n",
      "    self._target(*self._args, **self._kwargs)\n",
      "  File \"C:\\Users\\hp\\AppData\\Local\\Temp\\ipykernel_18784\\4095435310.py\", line 19, in alarm\n",
      "  File \"C:\\Users\\hp\\AppData\\Local\\Temp\\ipykernel_18784\\3219553544.py\", line 5, in alarm_sound\n",
      "NameError: name 'selected' is not defined\n",
      "Exception in Tkinter callback\n",
      "Traceback (most recent call last):\n",
      "  File \"C:\\Users\\hp\\AppData\\Local\\Programs\\Python\\Python310\\lib\\tkinter\\__init__.py\", line 1921, in __call__\n",
      "    return self.func(*args)\n",
      "  File \"C:\\Users\\hp\\AppData\\Local\\Temp\\ipykernel_18784\\3275597500.py\", line 6, in Deactivete\n",
      "    print(\"deactivated\",selected.get())\n",
      "UnboundLocalError: local variable 'selected' referenced before assignment\n",
      "Exception in Tkinter callback\n",
      "Traceback (most recent call last):\n",
      "  File \"C:\\Users\\hp\\AppData\\Local\\Programs\\Python\\Python310\\lib\\tkinter\\__init__.py\", line 1921, in __call__\n",
      "    return self.func(*args)\n",
      "  File \"C:\\Users\\hp\\AppData\\Local\\Temp\\ipykernel_18784\\3275597500.py\", line 6, in Deactivete\n",
      "    print(\"deactivated\",selected.get())\n",
      "UnboundLocalError: local variable 'selected' referenced before assignment\n",
      "Exception in Tkinter callback\n",
      "Traceback (most recent call last):\n",
      "  File \"C:\\Users\\hp\\AppData\\Local\\Programs\\Python\\Python310\\lib\\tkinter\\__init__.py\", line 1921, in __call__\n",
      "    return self.func(*args)\n",
      "  File \"C:\\Users\\hp\\AppData\\Local\\Temp\\ipykernel_18784\\3275597500.py\", line 6, in Deactivete\n",
      "    print(\"deactivated\",selected.get())\n",
      "UnboundLocalError: local variable 'selected' referenced before assignment\n",
      "Exception in Tkinter callback\n",
      "Traceback (most recent call last):\n",
      "  File \"C:\\Users\\hp\\AppData\\Local\\Programs\\Python\\Python310\\lib\\tkinter\\__init__.py\", line 1921, in __call__\n",
      "    return self.func(*args)\n",
      "  File \"C:\\Users\\hp\\AppData\\Local\\Temp\\ipykernel_18784\\3275597500.py\", line 6, in Deactivete\n",
      "    print(\"deactivated\",selected.get())\n",
      "UnboundLocalError: local variable 'selected' referenced before assignment\n",
      "Exception in Tkinter callback\n",
      "Traceback (most recent call last):\n",
      "  File \"C:\\Users\\hp\\AppData\\Local\\Programs\\Python\\Python310\\lib\\tkinter\\__init__.py\", line 1921, in __call__\n",
      "    return self.func(*args)\n",
      "  File \"C:\\Users\\hp\\AppData\\Local\\Temp\\ipykernel_18784\\3275597500.py\", line 6, in Deactivete\n",
      "    print(\"deactivated\",selected.get())\n",
      "UnboundLocalError: local variable 'selected' referenced before assignment\n",
      "Exception in Tkinter callback\n",
      "Traceback (most recent call last):\n",
      "  File \"C:\\Users\\hp\\AppData\\Local\\Programs\\Python\\Python310\\lib\\tkinter\\__init__.py\", line 1921, in __call__\n",
      "    return self.func(*args)\n",
      "  File \"C:\\Users\\hp\\AppData\\Local\\Temp\\ipykernel_18784\\3275597500.py\", line 6, in Deactivete\n",
      "    print(\"deactivated\",selected.get())\n",
      "UnboundLocalError: local variable 'selected' referenced before assignment\n"
     ]
    }
   ],
   "source": [
    "mixer.init()\n",
    "# alarm_sound()\n",
    "window.mainloop()"
   ]
  },
  {
   "cell_type": "code",
   "execution_count": null,
   "id": "d1bcc177",
   "metadata": {},
   "outputs": [],
   "source": []
  },
  {
   "cell_type": "code",
   "execution_count": null,
   "id": "1b54d6b2",
   "metadata": {},
   "outputs": [],
   "source": []
  }
 ],
 "metadata": {
  "kernelspec": {
   "display_name": "Python 3 (ipykernel)",
   "language": "python",
   "name": "python3"
  },
  "language_info": {
   "codemirror_mode": {
    "name": "ipython",
    "version": 3
   },
   "file_extension": ".py",
   "mimetype": "text/x-python",
   "name": "python",
   "nbconvert_exporter": "python",
   "pygments_lexer": "ipython3",
   "version": "3.10.4"
  }
 },
 "nbformat": 4,
 "nbformat_minor": 5
}
